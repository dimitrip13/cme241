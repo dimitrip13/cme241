{
 "cells": [
  {
   "cell_type": "markdown",
   "metadata": {},
   "source": [
    "# Problem 1"
   ]
  },
  {
   "cell_type": "markdown",
   "metadata": {},
   "source": [
    "The Utility Function is $U(x) = x - \\frac{\\alpha x^2}{2}$  and  $x$ ~ $N(\\mu,\\sigma^2)$"
   ]
  },
  {
   "cell_type": "markdown",
   "metadata": {},
   "source": [
    "Find the Expected Utility $E[U(x)]$:\n",
    "$$ U = x - \\frac{\\alpha x^2}{2}$$\n",
    "$$E[U(x)] = E[x - \\frac{\\alpha x^2}{2}]$$\n",
    "$$E[U(x)] = E[x] - \\frac{\\alpha}{2}E[x^2]$$\n",
    "$$E[x^2] = Var(x) + (E[x])^2$$\n",
    "$$E[U(x)] = \\mu - \\frac{\\alpha}{2}(\\sigma^2 + \\mu^2)$$"
   ]
  },
  {
   "cell_type": "markdown",
   "metadata": {},
   "source": [
    "Find the Certainty-Equivalent Value $x_{CE}$:\n",
    "$$ x_{CE} = U^{-1}(E[U(x)])$$\n",
    "$$ U = x - \\frac{\\alpha x^2}{2}$$\n",
    "Get the inverse of U\n",
    "$$ x = U^{-1} - \\frac{\\alpha U^{-1}}{2} $$\n",
    "$$ (U^{-1})^2 - \\frac{2}{\\alpha} U^{-1} = - \\frac{2}{\\alpha} x $$\n",
    "Complete the Square:\n",
    "$$ (U^{-1})^2 - \\frac{2}{\\alpha} U^{-1} + \\frac{1}{\\alpha^2} = -\\frac{2}{\\alpha} x + \\frac{1}{\\alpha^2} $$\n",
    "<br>\n",
    "$$ (U^{-1} - \\frac{1}{\\alpha})^2 = \\frac{1 - 2x\\alpha}{\\alpha^2} $$\n",
    "<br>\n",
    "$$ U^{-1} = \\frac{1}{\\alpha} \\pm \\sqrt{\\frac{1 - 2x\\alpha}{\\alpha^2}} $$\n",
    "<br>\n",
    "$$ U^{-1} = \\frac{1}{\\alpha} (1 \\pm \\sqrt{{1 - 2x\\alpha}}) $$\n",
    "<br>\n",
    "Substitute $E[U(x)]$ in for x:\n",
    "$$ x_{CE} = \\frac{1}{\\alpha} (1 \\pm \\sqrt{{1 - 2\\alpha\\mu + \\alpha^2\\mu^2 + \\alpha^2\\sigma^2}}) $$\n",
    "<br>\n",
    "$$ x_{CE} = \\frac{1}{\\alpha} (1 \\pm \\sqrt{{(1 - \\alpha\\mu)^2 + \\alpha^2\\sigma^2}}) $$\n",
    "<br>\n",
    "Since U is a concave down parabola, in order for economic utility to make sense with diminishing returns, we only care about the left half of the parabola.  Therefore we can ignore the positive part of the square root in $ x_{CE}$.\n",
    "So:\n",
    "$$ x_{CE} = \\frac{1}{\\alpha} (1 - \\sqrt{{(1 - \\alpha\\mu)^2 + \\alpha^2\\sigma^2}}) $$"
   ]
  },
  {
   "cell_type": "markdown",
   "metadata": {},
   "source": [
    "Find the Absolute Risk Premium $\\pi_A$:\n",
    "$$ \\pi_A = E[x] - x_{CE} $$\n",
    "<br>\n",
    "$$ \\pi_A = \\mu - \\frac{1}{\\alpha} (1 - \\sqrt{{(1 - \\alpha\\mu)^2 + \\alpha^2\\sigma^2}}) $$"
   ]
  },
  {
   "cell_type": "markdown",
   "metadata": {},
   "source": [
    "Given $U(x) = x - \\frac{\\alpha x^2}{2}$\n",
    "Given 1,000,000 dollars to invest denoted as d<br>\n",
    "Given a Riskless asset with fixed annual return r <br>\n",
    "Given a Risky asset with annual return $x$ ~ $N(\\mu,\\sigma^2)$ <br>\n",
    "What is the optimal investment z to invest in the risky asset given the level of risk aversion?\n",
    "<br>\n",
    "Wealth W is given by W ~ $N(d + r + z(\\mu - r), z^2 \\sigma^2)$ <br>\n",
    "Maximize $E[U(W)]$:\n",
    "$$ U(W) = N(d + r + z(\\mu - r), z^2 \\sigma^2) - \\frac{\\alpha}{2}[N(d + r + z(\\mu - r), z^2 \\sigma^2))^2]$$\n",
    "$$ E[U(W)] = d + r + z(\\mu - r) - \\frac{\\alpha}{2}[(d + r + z(\\mu - r))^2 + z^2 \\sigma^2]$$\n",
    "$$ \\frac{dE[U(W)]}{dz} = (\\mu - r) - \\alpha \\sigma^2 z - \\alpha (\\mu - r) (d + r + z(\\mu - r) $$\n",
    "Set $\\frac{dE[U(W)]}{dz} = 0 $\n",
    "$$ 0 = (\\mu - r) - \\alpha \\sigma^2 z - \\alpha (\\mu - r) (d + r + z(\\mu - r) $$\n",
    "$$ 0 = (\\mu - r) - \\alpha \\sigma^2 z - \\alpha d (\\mu - r) - \\alpha r (\\mu - r) - z \\alpha (\\mu - r)^2  $$\n",
    "$$ 0 = (\\mu - r)(1 - \\alpha d - \\alpha r) - z \\alpha (\\mu - r)^2 - z \\alpha $$\n",
    "$$ z \\alpha (\\mu - r)^2 + z \\alpha \\sigma^2 = (\\mu - r)(1 - \\alpha d - \\alpha r) $$\n",
    "$$ z \\alpha ((\\mu - r)^2 + \\sigma^2) = (\\mu - r)(1 - \\alpha (d + r)) $$\n",
    "$$ z = \\frac{(\\mu - r)(1 - \\alpha (d + r))}{\\alpha ((\\mu - r)^2 + \\sigma^2)} $$"
   ]
  },
  {
   "cell_type": "markdown",
   "metadata": {},
   "source": [
    "Given z > 0 <br> \n",
    "$$ \\frac{(\\mu - r)(1 - \\alpha (d + r))}{\\alpha ((\\mu - r)^2 + \\sigma^2)} \\gt 0$$\n",
    "$$ 1 - \\alpha (d + r) \\gt 0$$\n",
    "$$ \\frac{1}{d + r} \\gt \\alpha$$\n",
    "$$ \\alpha \\lt \\frac{1}{d + r} $$"
   ]
  },
  {
   "cell_type": "markdown",
   "metadata": {},
   "source": [
    "Given z < 1 <br>\n",
    "$$ \\frac{(\\mu - r)(1 - \\alpha (d + r))}{\\alpha ((\\mu - r)^2 + \\sigma^2)} \\lt 1$$\n",
    "$$ (\\mu - r) - \\alpha (d + r)(\\mu - r) \\lt \\alpha ((\\mu - r)^2 + \\sigma^2)$$\n",
    "$$ (\\mu - r) \\lt \\alpha ((\\mu - r)^2 + \\sigma^2) + \\alpha (d + r)(\\mu - r)$$\n",
    "$$ (\\mu - r) \\lt \\alpha [(\\mu - r)^2 + \\sigma^2 + (d + r)(\\mu - r)]$$\n",
    "$$ \\frac{(\\mu - r)}{(\\mu - r)^2 + \\sigma^2 + (d + r)(\\mu - r)} \\lt \\alpha $$"
   ]
  },
  {
   "cell_type": "markdown",
   "metadata": {},
   "source": [
    "Limits of $\\alpha$\n",
    "$$ \\frac{(\\mu - r)}{(\\mu - r)^2 + \\sigma^2 + (d + r)(\\mu - r)} \\lt \\alpha \\lt \\frac{1}{d + r} $$"
   ]
  },
  {
   "cell_type": "code",
   "execution_count": 127,
   "metadata": {},
   "outputs": [],
   "source": [
    "import matplotlib.pyplot as plt\n",
    "import matplotlib.ticker as ticker       # Used for making the x axis whole numbers\n",
    "%matplotlib inline\n",
    "plt.rcParams['figure.figsize'] = [12, 8] # Chnages default plot size\n",
    "plt.rcParams.update({'font.size': 22})   # Changes default font size\n",
    "\n",
    "def optimal_investment(\n",
    "    money: float,\n",
    "    alpha: float,\n",
    "    r: float, \n",
    "    mu: float, \n",
    "    sigma: float):\n",
    "\n",
    "    top = (mu - r) * (1 - (alpha * (money + r)))\n",
    "    bottom = alpha*((mu-r)**2 + sigma**2)\n",
    "    \n",
    "    # Protects from divide by 0\n",
    "    if bottom == 0:\n",
    "        result = 1\n",
    "    else:\n",
    "        # Clips result to be between 0 and 1\n",
    "        result = np.clip(top/bottom/money, 0, 1)\n",
    "        \n",
    "    # Returns z as a fraction of the money we have to invest   \n",
    "    return result\n",
    "\n",
    "\n",
    "\n",
    "def make_plot(money, r, mu, sigma):\n",
    "    points = 100\n",
    "                      \n",
    "    alpha_lower = (mu - r) / ((mu - r)**2 + sigma**2 + ((money + r)*(mu - r)))\n",
    "    alpha_upper = 1. / (money + r)\n",
    "\n",
    "    alphas = np.linspace(alpha_lower, alpha_upper, points)\n",
    "                              \n",
    "    optimal_zs = np.zeros(points)\n",
    "    for i, alpha in enumerate(alphas):\n",
    "        optimal_zs[i] = (optimal_investment(money, alpha, r, mu, sigma))\n",
    "\n",
    "    # Clears previous plot and figure\n",
    "    plt.clf()\n",
    "    plt.close()\n",
    "\n",
    "    # I changed the label and tick colors since I have a dark theme for Jupyter\n",
    "    custom_color = 'orange'\n",
    "    \n",
    "    # Plot stuff...\n",
    "    fig, ax = plt.subplots()\n",
    "    line1 = ax.plot(alphas, optimal_zs, color='blue', linewidth=3)\n",
    "    ax.grid(color=\"black\", linestyle='--', linewidth=2, axis='y', alpha=0.7)\n",
    "\n",
    "    # Legend\n",
    "    # colormap = {\"Croak A\":'blue', \"Croak B\":'red'}         \n",
    "    # labels = list(colormap.keys())\n",
    "    # handles = [plt.Rectangle((0,0),1,1, color=colormap[label]) for label in labels]\n",
    "#     ax.legend()\n",
    "\n",
    "    # Axes Label stuffs\n",
    "    ax.set_xlabel('alpha').set_color(custom_color)\n",
    "    ax.set_ylabel('z [%]').set_color(custom_color)\n",
    "    ax.set_title(r'z vs alpha Given Money in Millions').set_color(custom_color)\n",
    "    # Used for making the x axis whole numbers\n",
    "#     ax.xaxis.set_major_locator(ticker.MaxNLocator(integer=True)) \n",
    "    ax.set_xlim(xmax = alpha_upper, xmin = alpha_lower)\n",
    "    ax.set_ylim(ymax = 1, ymin = -.1)\n",
    "\n",
    "    # Additional Color Info\n",
    "    ax.spines['bottom'].set_color(custom_color)\n",
    "    ax.spines['top'].set_color(custom_color)\n",
    "    ax.spines['left'].set_color(custom_color)\n",
    "    ax.spines['right'].set_color(custom_color)\n",
    "    ax.tick_params(axis='x', colors=custom_color)\n",
    "    ax.tick_params(axis='y', colors=custom_color)\n",
    "\n",
    "    # Show Off Baby\n",
    "    plt.show()"
   ]
  },
  {
   "cell_type": "code",
   "execution_count": 128,
   "metadata": {},
   "outputs": [
    {
     "data": {
      "application/vnd.jupyter.widget-view+json": {
       "model_id": "597d896a39794d21b6c1f1507359af41",
       "version_major": 2,
       "version_minor": 0
      },
      "text/plain": [
       "interactive(children=(FloatSlider(value=1.0, description='Money', max=3.0, min=0.1), FloatSlider(value=2.0, de…"
      ]
     },
     "metadata": {},
     "output_type": "display_data"
    },
    {
     "data": {
      "text/plain": [
       "<function __main__.make_plot(money, r, mu, sigma)>"
      ]
     },
     "execution_count": 128,
     "metadata": {},
     "output_type": "execute_result"
    }
   ],
   "source": [
    "# INTERACTIVE PLOT\n",
    "money_val = widgets.FloatSlider(value=1, min=.1, max=3, step=.1, description=\"Money\")\n",
    "r_val = widgets.FloatSlider(value=2, min=0, max=100, step=1, description=\"Riskless\")\n",
    "mu_val = widgets.FloatSlider(value=6, min=0, max=100, step=1, description=\"Risky Mu\")\n",
    "sigma_val = widgets.FloatSlider(value=2, min=0, max=100, step=1, description=\"Risky Sigma\")  \n",
    "\n",
    "widgets.interact(make_plot, money=money_val, r=r_val, mu=mu_val, sigma=sigma_val)  "
   ]
  },
  {
   "cell_type": "code",
   "execution_count": 129,
   "metadata": {},
   "outputs": [
    {
     "data": {
      "image/png": "[encoded data removed]",
      "text/plain": [
       "<Figure size 864x576 with 1 Axes>"
      ]
     },
     "metadata": {
      "needs_background": "dark"
     },
     "output_type": "display_data"
    }
   ],
   "source": [
    "# Regular Boring Plot\n",
    "make_plot(1,2,6,2)"
   ]
  },
  {
   "cell_type": "markdown",
   "metadata": {},
   "source": [
    "A larger $\\alpha$ means you are more risk averse <br>\n",
    "Changing the amount of money changes the start and endpoints of the graph <br>\n",
    "Changing the any of the reward parameters changes the curvature of the graph <br>"
   ]
  },
  {
   "cell_type": "markdown",
   "metadata": {},
   "source": [
    "# Problem 3"
   ]
  },
  {
   "cell_type": "markdown",
   "metadata": {},
   "source": [
    "Given the returns after a single bet: <br>\n",
    "$\\quad$ x(1 + $\\alpha$)   with probability p <br>\n",
    "$\\quad$ x(1 - $\\beta$)    with probability q <br>\n",
    "<br>\n",
    "Given your wealth $W_0$, the two outcomes for your bet of $fW_0$ are: <br>\n",
    "$\\quad$ $W_0(1 + \\alpha f)$ <br>\n",
    "$\\quad$ $W_0(1 + \\beta f)$ <br>\n",
    "<br>\n",
    "Given $U(x) = log(x)$, the two outcomes of $U(W_0)$ are: <br>\n",
    "$\\quad$ $ln(W_0(1 + \\alpha f))$ <br>\n",
    "$\\quad$ $ln(W_0(1 + \\beta f))$ <br>\n",
    "<br>\n",
    "The expected value $E[U(W)]$ is: <br>\n",
    "$$ p * ln(W_0(1 + \\alpha f))) + q * ln(W_0(1 + \\beta f)) $$ <br>\n",
    "<br>\n",
    "The derivative of the expected value of $ E[U(W)] $ with respect to $f$ is: <br>\n",
    "$$ \\frac{dE[U(W)]}{df} = p \\frac{W_0 \\alpha}{W_0(1 + \\alpha f)} - q \\frac{W_0 \\beta}{W_0(1 + \\beta f)} $$\n",
    "<br>\n",
    "$$ \\frac{dE[U(W)]}{df} = \\frac{p \\alpha}{1 + \\alpha f} - \\frac{q \\beta}{1 + \\beta f} $$\n",
    "<br>\n",
    "Set $ \\frac{dE[U(W)]}{df} = 0 $ and solve for $f^*$: <br>\n",
    "$$ \\frac{dE[U(W)]}{df} = \\frac{p \\alpha}{1 + \\alpha f} - \\frac{q \\beta}{1 + \\beta f} = 0 $$\n",
    "$$ p \\alpha (1 + \\beta f) - q \\beta (1 + \\alpha f) = 0 $$\n",
    "$$ p \\alpha - p \\alpha \\beta f - q \\beta - q \\alpha \\beta f = 0 $$\n",
    "$$ \\alpha \\beta f (p + q) = p \\alpha - q \\beta $$\n",
    "Since p + q = 1: \n",
    "$$ f^* = \\frac{p \\alpha - q \\beta}{\\alpha \\beta} $$"
   ]
  },
  {
   "cell_type": "markdown",
   "metadata": {},
   "source": [
    "This makes sense because if the probability of a win or the winnings $\\alpha$ increases, the bet of the fraction of wealth increases.  If the probability of losing or the losses $\\beta$ increase, the bet of the fraction of wealth decreases."
   ]
  },
  {
   "cell_type": "code",
   "execution_count": null,
   "metadata": {},
   "outputs": [],
   "source": []
  }
 ],
 "metadata": {
  "kernelspec": {
   "display_name": "Python 3",
   "language": "python",
   "name": "python3"
  },
  "language_info": {
   "codemirror_mode": {
    "name": "ipython",
    "version": 3
   },
   "file_extension": ".py",
   "mimetype": "text/x-python",
   "name": "python",
   "nbconvert_exporter": "python",
   "pygments_lexer": "ipython3",
   "version": "3.8.5"
  }
 },
 "nbformat": 4,
 "nbformat_minor": 4
}
