{
 "cells": [
  {
   "cell_type": "markdown",
   "metadata": {},
   "source": [
    "# Assignment 14"
   ]
  },
  {
   "cell_type": "code",
   "execution_count": 1,
   "metadata": {},
   "outputs": [
    {
     "data": {
      "text/html": [
       "<style>.container { width:70% !important; }</style>"
      ],
      "text/plain": [
       "<IPython.core.display.HTML object>"
      ]
     },
     "metadata": {},
     "output_type": "display_data"
    }
   ],
   "source": [
    "# Change notebook width\n",
    "from IPython.core.display import display, HTML\n",
    "display(HTML(\"<style>.container { width:70% !important; }</style>\"))"
   ]
  },
  {
   "cell_type": "markdown",
   "metadata": {},
   "source": [
    "# Problem 1"
   ]
  },
  {
   "cell_type": "code",
   "execution_count": null,
   "metadata": {},
   "outputs": [],
   "source": [
    "# Least Square Temporal Difference Algorithm\n",
    "# Returns Weights of feature functions φ\n",
    "def LSTD(\n",
    "    φ: Sequence[Callable[[X], float]],\n",
    "    experiences: Iterable[TransitionStep[S]],\n",
    "    γ: float\n",
    "                                            ) -> Sequence[float]:\n",
    "    \n",
    "    # Initialize A and b\n",
    "    m = len(φ)\n",
    "    A = np.zeros((m, m))\n",
    "    b = np.zeros((m, 1))\n",
    "\n",
    "    # Loop through atomic experiences and update A and b\n",
    "    for i, step in enumerate(experiences):\n",
    "        # Get feature vectors\n",
    "        φ1 = np.atleast_2d(np.array(  [f(step.state)      for f in φ]  )).T\n",
    "        φ2 = np.atleast_2d(np.array(  [f(step.next_state) for f in φ]  )).T\n",
    "        \n",
    "        # Update A and b matrices\n",
    "        A += np.outer(φ1, (φ1 - γ * φ2))\n",
    "        b += (φ1 * step.reward)\n",
    "\n",
    "    return np.linalg.inv(A) @ b\n"
   ]
  }
 ],
 "metadata": {
  "kernelspec": {
   "display_name": "Python 3",
   "language": "python",
   "name": "python3"
  },
  "language_info": {
   "codemirror_mode": {
    "name": "ipython",
    "version": 3
   },
   "file_extension": ".py",
   "mimetype": "text/x-python",
   "name": "python",
   "nbconvert_exporter": "python",
   "pygments_lexer": "ipython3",
   "version": "3.8.5"
  }
 },
 "nbformat": 4,
 "nbformat_minor": 4
}
