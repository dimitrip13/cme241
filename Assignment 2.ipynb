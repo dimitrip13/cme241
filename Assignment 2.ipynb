{
 "cells": [
  {
   "cell_type": "code",
   "execution_count": 186,
   "metadata": {},
   "outputs": [],
   "source": [
    "import random\n",
    "from typing import Optional\n",
    "from rl.distribution import Choose, SampledDistribution\n",
    "from rl.markov_process import Transition\n",
    "from dataclasses import dataclass\n",
    "import itertools\n",
    "from operator import itemgetter"
   ]
  },
  {
   "cell_type": "code",
   "execution_count": 108,
   "metadata": {},
   "outputs": [],
   "source": [
    "# BAD FIRST ATTEMPT\n",
    "# class SnakesAndLadders1():\n",
    "#     def __init__(self, *args, **kwargs):\n",
    "        \n",
    "#         # Sets start state\n",
    "#         self.state = 0\n",
    "#         # Initially the game is not over\n",
    "#         self.gameover = False\n",
    "        \n",
    "#         # Default behavior with no arguments\n",
    "#         # I know it's a lot of code lines but I think it reads more clearly\n",
    "#         if len(args) == 0:\n",
    "#             self.snakes = {}\n",
    "#             self.snakes[31] =  6\n",
    "#             self.snakes[38] =  1\n",
    "#             self.snakes[49] =  8\n",
    "#             self.snakes[53] = 17\n",
    "#             self.snakes[65] = 14\n",
    "#             self.snakes[70] = 34\n",
    "#             self.snakes[76] = 37\n",
    "#             self.snakes[82] = 63\n",
    "#             self.snakes[88] = 50\n",
    "#             self.snakes[94] = 42\n",
    "#             self.snakes[98] = 54\n",
    "            \n",
    "#             self.ladders = {}\n",
    "#             self.ladders[3]  = 39\n",
    "#             self.ladders[7]  = 48\n",
    "#             self.ladders[12] = 51\n",
    "#             self.ladders[20] = 41\n",
    "#             self.ladders[25] = 57\n",
    "#             self.ladders[28] = 35\n",
    "#             self.ladders[45] = 74\n",
    "#             self.ladders[60] = 85\n",
    "#             self.ladders[67] = 90\n",
    "#             self.ladders[69] = 92\n",
    "#             self.ladders[77] = 83\n",
    "            \n",
    "# #             print(\"sneks\", self.snakes)\n",
    "# #             print(\"ladders\", self.ladders)\n",
    "\n",
    "#         # For 2 arguments, sets dicts of snakes and ladders\n",
    "#         elif len(args == 2):\n",
    "#             self.snakes = args[0]\n",
    "#             self.ladders = args[1]\n",
    "#         else:\n",
    "#             raise ValueError(\"Can only give me 0 or 2 arguments bro\")\n",
    "    \n",
    "#     # Checks if the game is over if you've reached 100 or greater\n",
    "#     # In this version anything 100 and above is counted as an automatic win\n",
    "#     def isover():\n",
    "#         if self.state > 99:\n",
    "#             self.gameover = True\n",
    "            \n",
    "#     def roll():\n",
    "#         # Rolls the dice\n",
    "#         diceroll = random.randint(1,6)\n",
    "#         # Adds the result to the current state\n",
    "#         newstate = self.state + diceroll\n",
    "        \n",
    "#         if newstate in self.snakes:\n",
    "#             # If you land on a snake, you are sent to the state of the snake number's dict result\n",
    "#             self.state = self.snakes[newstate]\n",
    "#         elif newstate in self.ladders:\n",
    "#             # If you land on a ladder, you are sent to the state of the ladder number's dict result\n",
    "#             self.state = self.ladders[newstate]\n",
    "#         else:\n",
    "#             # Sets the new state\n",
    "#             self.state = newstate\n",
    "            \n",
    "#         # Checks if the game is over\n",
    "#         self.isover()"
   ]
  },
  {
   "cell_type": "code",
   "execution_count": null,
   "metadata": {},
   "outputs": [],
   "source": [
    "# Snakes and Ladders State\n",
    "\n",
    "# State space is just the value of the square the player is on ranging from [0:100]\n",
    "@dataclass(frozen=True)\n",
    "class SLState:\n",
    "    state: int\n",
    "\n",
    "# Finite Markov Process of the Snakes and Ladders game\n",
    "class SnakesAndLaddersFMP(FiniteMarkovProcess[SLState]):\n",
    "    def __init__(\n",
    "        self,\n",
    "        start: SLState =SLState(0),\n",
    "        maxx: SLState =SLState(100),\n",
    "        slides: dict =None\n",
    "    ):\n",
    "        \n",
    "        self.start = start.state\n",
    "        self.max = maxx.state\n",
    "        \n",
    "        if slides == None:\n",
    "            # Creates the snakes and ladders dict map\n",
    "            # I know it's a lot of code lines but I think it reads more clearly\n",
    "            self.slides = {}\n",
    "            # Snakes\n",
    "            self.slides[31] =  6\n",
    "            self.slides[38] =  1\n",
    "            self.slides[49] =  8\n",
    "            self.slides[53] = 17\n",
    "            self.slides[65] = 14\n",
    "            self.slides[70] = 34\n",
    "            self.slides[76] = 37\n",
    "            self.slides[82] = 63\n",
    "            self.slides[88] = 50\n",
    "            self.slides[94] = 42\n",
    "            self.slides[98] = 54\n",
    "            # Ladders\n",
    "            self.slides[3]  = 39\n",
    "            self.slides[7]  = 48\n",
    "            self.slides[12] = 51\n",
    "            self.slides[20] = 41\n",
    "            self.slides[25] = 57\n",
    "            self.slides[28] = 35\n",
    "            self.slides[45] = 74\n",
    "            self.slides[60] = 85\n",
    "            self.slides[67] = 90\n",
    "            self.slides[69] = 92\n",
    "            self.slides[77] = 83\n",
    "        else:\n",
    "            self.slides = slides\n",
    "            \n",
    "        self.t_map = self.get_transition_map()\n",
    "\n",
    "    # Given the current state, returns a list of possible next states with a roll from [1:6]\n",
    "    # Accounts for snakes and ladders\n",
    "    # If the state is the max or greater, the value is set to the max\n",
    "    def setlist(self, curstate):\n",
    "        listt = []\n",
    "        for i in range(1,7):\n",
    "            newstate = curstate + i\n",
    "            if newstate in self.slides:\n",
    "                listt.append(self.slides[newstate])\n",
    "            elif newstate > self.max:\n",
    "                listt.append(self.max)\n",
    "            else:\n",
    "                listt.append(newstate)\n",
    "        return listt\n",
    "    \n",
    "    # Creates a map from each square to each possible square from that location in a Choose type\n",
    "    # After the max value is chosen, you can only transition to the square -1 and stay there\n",
    "    def get_transition_map(self)  -> Transition[SLState]:\n",
    "        d: Dict[SLState, Choose[list[int]]] = {}\n",
    "        for state in range(self.start, self.max):   \n",
    "            d[SLState(state)] = Choose(self.setlist(state))\n",
    "        d[SLState(-1)] = Choose([-1])\n",
    "        d[SLState(self.max)] = Choose([-1])\n",
    "        return d\n",
    "    \n",
    "    # Gets next state from current state by sampling from current state's mapped possibilities\n",
    "    def next_state(self, state: SLState) -> Optional[SLState]:\n",
    "        \n",
    "        nextstate = self.t_map[state].sample()\n",
    "#         print(\"state: \", state)\n",
    "#         print(\"roll: \", nextstate)\n",
    "        return SLState(nextstate)\n",
    "\n",
    " "
   ]
  },
  {
   "cell_type": "code",
   "execution_count": 202,
   "metadata": {},
   "outputs": [],
   "source": [
    "# Plots for simulating the game and processing the simulation into an array       \n",
    "def simulation(process, start_state):\n",
    "    state = start_state\n",
    "    while True:\n",
    "        yield state\n",
    "        state = process.next_state(state)\n",
    "        \n",
    "def process_trace(\n",
    "    start: int,\n",
    "    maxx: int,\n",
    "    slides: Optional[dict],\n",
    "    time_steps: int,\n",
    "    num_traces: int\n",
    ") -> np.ndarray:\n",
    "    \n",
    "    process = SnakesAndLaddersFMP()\n",
    "    start_state = SLState(start)\n",
    "    return np.vstack([\n",
    "        np.fromiter((s.state for s in itertools.islice(\n",
    "            simulation(process, start_state),\n",
    "            time_steps + 1\n",
    "        )), float) for _ in range(num_traces)])"
   ]
  },
  {
   "cell_type": "code",
   "execution_count": 226,
   "metadata": {},
   "outputs": [
    {
     "name": "stdout",
     "output_type": "stream",
     "text": [
      "The expected number of steps to finish shoots and ladders is  39.78105621124225  rolls\n"
     ]
    },
    {
     "data": {
      "image/png": "[encoded data removed]",
      "text/plain": [
       "<Figure size 432x288 with 1 Axes>"
      ]
     },
     "metadata": {
      "needs_background": "dark"
     },
     "output_type": "display_data"
    }
   ],
   "source": [
    "# Simulates Shoots and Ladders and then plots a histogram of the times steps it took to finish\n",
    "start = 0\n",
    "terminal = 100\n",
    "steps = 250\n",
    "traces = 10000\n",
    "trace = process_trace(start, terminal, None, steps, traces )\n",
    "\n",
    "\n",
    "from matplotlib import pyplot as plt\n",
    "%matplotlib inline\n",
    "\n",
    "# Gets the location of the terminal states\n",
    "where = np.argwhere(trace == terminal)\n",
    "x = where[:,1]\n",
    "\n",
    "# Gets the average for the expectation\n",
    "avg = np.nanmean(x)\n",
    "print(\"The expected number of steps to finish shoots and ladders is \", avg, \" rolls\")\n",
    "\n",
    "# Plot stuff...\n",
    "fig, ax = plt.subplots()\n",
    "\n",
    "# I changed the label and tick colors since I have a dark theme\n",
    "custom_color = 'orange'\n",
    "\n",
    "# Axes stuffs\n",
    "n_bins = terminal - start + 1\n",
    "ax.hist(x, n_bins)\n",
    "ax.set_xlabel('Time Steps [t]').set_color(custom_color)\n",
    "ax.set_ylabel('Counts [N]').set_color(custom_color)\n",
    "ax.set_title(r'Histogram Time Step to Finish Shoots and Ladders').set_color(custom_color)\n",
    "\n",
    "# Additional color info\n",
    "ax.spines['bottom'].set_color(custom_color)\n",
    "ax.spines['top'].set_color(custom_color)\n",
    "ax.spines['left'].set_color(custom_color)\n",
    "ax.spines['right'].set_color(custom_color)\n",
    "ax.tick_params(axis='x', colors=custom_color)\n",
    "ax.tick_params(axis='y', colors=custom_color)\n",
    "\n",
    "# Show off baby\n",
    "plt.show()"
   ]
  },
  {
   "cell_type": "code",
   "execution_count": 171,
   "metadata": {},
   "outputs": [
    {
     "data": {
      "text/plain": [
       "array([[ 0.,  4., 48., ..., 87., 50., 52.],\n",
       "       [ 0., 39., 40., ..., 78., 79., 85.],\n",
       "       [ 0.,  5., 48., ..., 23., 57., 62.],\n",
       "       ...,\n",
       "       [ 0., 39., 41., ..., 17., 21., 23.],\n",
       "       [ 0.,  6., 51., ..., 58., 61., 14.],\n",
       "       [ 0.,  6., 48., ..., 26., 32.,  1.]])"
      ]
     },
     "execution_count": 171,
     "metadata": {},
     "output_type": "execute_result"
    }
   ],
   "source": [
    "trace"
   ]
  },
  {
   "cell_type": "code",
   "execution_count": 183,
   "metadata": {},
   "outputs": [
    {
     "name": "stdout",
     "output_type": "stream",
     "text": [
      "-1\n"
     ]
    },
    {
     "data": {
      "text/plain": [
       "int"
      ]
     },
     "execution_count": 183,
     "metadata": {},
     "output_type": "execute_result"
    }
   ],
   "source": [
    "b = Choose([-1])\n",
    "print(b.sample())\n",
    "type(b.sample())"
   ]
  },
  {
   "cell_type": "code",
   "execution_count": 152,
   "metadata": {},
   "outputs": [
    {
     "data": {
      "text/plain": [
       "array([[  0.,   1.,  39., ..., 100., 100., 100.],\n",
       "       [  0.,   2.,   6., ..., 100., 100., 100.],\n",
       "       [  0.,   5.,  11., ..., 100., 100., 100.],\n",
       "       ...,\n",
       "       [  0.,   4.,  10., ..., 100., 100., 100.],\n",
       "       [  0.,   6.,  11., ..., 100., 100., 100.],\n",
       "       [  0.,   2.,   6., ..., 100., 100., 100.]])"
      ]
     },
     "execution_count": 152,
     "metadata": {},
     "output_type": "execute_result"
    }
   ],
   "source": [
    "arr"
   ]
  },
  {
   "cell_type": "code",
   "execution_count": 59,
   "metadata": {},
   "outputs": [
    {
     "name": "stdout",
     "output_type": "stream",
     "text": [
      "3\n"
     ]
    }
   ],
   "source": [
    "import numpy as np\n",
    "np.maximum(0, np.max([1,3,4]))\n",
    "a = [1,2,3]\n",
    "b = np.array(a)\n",
    "print(b.size)"
   ]
  },
  {
   "cell_type": "code",
   "execution_count": null,
   "metadata": {},
   "outputs": [],
   "source": []
  }
 ],
 "metadata": {
  "kernelspec": {
   "display_name": "Python 3",
   "language": "python",
   "name": "python3"
  },
  "language_info": {
   "codemirror_mode": {
    "name": "ipython",
    "version": 3
   },
   "file_extension": ".py",
   "mimetype": "text/x-python",
   "name": "python",
   "nbconvert_exporter": "python",
   "pygments_lexer": "ipython3",
   "version": "3.8.5"
  }
 },
 "nbformat": 4,
 "nbformat_minor": 4
}
